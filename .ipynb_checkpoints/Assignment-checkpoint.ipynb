{
 "cells": [
  {
   "cell_type": "markdown",
   "metadata": {},
   "source": [
    "# Problem HANGMAN"
   ]
  },
  {
   "cell_type": "markdown",
   "metadata": {},
   "source": [
    "## Problem statement :\n",
    "<hr>\n",
    " One of the interesting problems in NLP for healthcare is in handling medical coded term associations and spelling errors.So we are going to mimic the problem with hangman / dump charades like NLP word games. Your ML model should predict the correct word from an intentionally obscured word and its description (Hint). Our evaluation set will have incomplete words and their descriptions.\n",
    "<hr>\n",
    "\n",
    "## Example\n",
    "<hr>\n",
    "Input masked word = DEM_G_A_HY and Description = is the statistical study of populations, especially human beings.\n",
    "<br>\n",
    "Model prediction/output = DEMOGRAPHY"
   ]
  },
  {
   "cell_type": "markdown",
   "metadata": {},
   "source": [
    "### Installing required packages"
   ]
  },
  {
   "cell_type": "code",
   "execution_count": 1,
   "metadata": {},
   "outputs": [],
   "source": [
    "# !pip install nltk\n",
    "# !pip install numpy\n",
    "# !pip install pandas"
   ]
  },
  {
   "cell_type": "code",
   "execution_count": 2,
   "metadata": {},
   "outputs": [],
   "source": [
    "import nltk"
   ]
  },
  {
   "cell_type": "code",
   "execution_count": 3,
   "metadata": {},
   "outputs": [],
   "source": [
    "#nltk.download()"
   ]
  },
  {
   "cell_type": "markdown",
   "metadata": {},
   "source": [
    "### Importing required packages"
   ]
  },
  {
   "cell_type": "code",
   "execution_count": 4,
   "metadata": {},
   "outputs": [],
   "source": [
    "from nltk.corpus import wordnet\n",
    "import os\n",
    "import numpy as np\n",
    "import pandas as pd"
   ]
  },
  {
   "cell_type": "markdown",
   "metadata": {},
   "source": [
    "### Setting up directories and getting target words and Training Dataset"
   ]
  },
  {
   "cell_type": "code",
   "execution_count": 5,
   "metadata": {},
   "outputs": [],
   "source": [
    "\n",
    "curr_dir = os.getcwd()\n",
    "target_words_dir = 'Targets.txt'\n",
    "target_txt = open(os.path.join(curr_dir,target_words_dir),\"r\")\n",
    "\n",
    "def get_target_words(file_dir):\n",
    "    target_txt = open(file_dir,\"r\")\n",
    "    words = target_txt.readlines()\n",
    "    return([word[:-1].lower() for word in words])\n",
    "\n",
    "def get_dataframe(target_words):\n",
    "    data = {\"words\":[],\"description\":[]}\n",
    "    for word in target_words:\n",
    "        try:\n",
    "            synset = wordnet.synsets(word)         \n",
    "            data[\"description\"].append(synset[0].definition())\n",
    "            data[\"words\"].append(word)\n",
    "        except:pass\n",
    "    return pd.DataFrame(data)"
   ]
  },
  {
   "cell_type": "code",
   "execution_count": 6,
   "metadata": {},
   "outputs": [],
   "source": [
    "target_words = np.array(get_target_words(target_words_dir))\n",
    "data = get_dataframe(target_words)"
   ]
  },
  {
   "cell_type": "code",
   "execution_count": 7,
   "metadata": {},
   "outputs": [
    {
     "data": {
      "text/html": [
       "<div>\n",
       "<style scoped>\n",
       "    .dataframe tbody tr th:only-of-type {\n",
       "        vertical-align: middle;\n",
       "    }\n",
       "\n",
       "    .dataframe tbody tr th {\n",
       "        vertical-align: top;\n",
       "    }\n",
       "\n",
       "    .dataframe thead th {\n",
       "        text-align: right;\n",
       "    }\n",
       "</style>\n",
       "<table border=\"1\" class=\"dataframe\">\n",
       "  <thead>\n",
       "    <tr style=\"text-align: right;\">\n",
       "      <th></th>\n",
       "      <th>words</th>\n",
       "      <th>description</th>\n",
       "    </tr>\n",
       "  </thead>\n",
       "  <tbody>\n",
       "    <tr>\n",
       "      <th>0</th>\n",
       "      <td>kitty</td>\n",
       "      <td>the combined stakes of the betters</td>\n",
       "    </tr>\n",
       "    <tr>\n",
       "      <th>1</th>\n",
       "      <td>lookup</td>\n",
       "      <td>an operation that determines whether one or mo...</td>\n",
       "    </tr>\n",
       "    <tr>\n",
       "      <th>2</th>\n",
       "      <td>otiose</td>\n",
       "      <td>serving no useful purpose; having no excuse fo...</td>\n",
       "    </tr>\n",
       "    <tr>\n",
       "      <th>3</th>\n",
       "      <td>gallant</td>\n",
       "      <td>a man who is much concerned with his dress and...</td>\n",
       "    </tr>\n",
       "  </tbody>\n",
       "</table>\n",
       "</div>"
      ],
      "text/plain": [
       "     words                                        description\n",
       "0    kitty                 the combined stakes of the betters\n",
       "1   lookup  an operation that determines whether one or mo...\n",
       "2   otiose  serving no useful purpose; having no excuse fo...\n",
       "3  gallant  a man who is much concerned with his dress and..."
      ]
     },
     "execution_count": 7,
     "metadata": {},
     "output_type": "execute_result"
    }
   ],
   "source": [
    "data.head(4)"
   ]
  },
  {
   "cell_type": "code",
   "execution_count": 18,
   "metadata": {},
   "outputs": [],
   "source": [
    "import tensorflow as tf\n",
    "from tensorflow.keras.preprocessing.sequence import pad_sequences\n",
    "from nltk.corpus import stopwords  \n",
    "from tensorflow.keras.preprocessing.text import Tokenizer\n",
    "\n",
    "from tensorflow.keras.models import Sequential\n",
    "from tensorflow.keras.layers import Embedding, LSTM, Dense, Bidirectional, SpatialDropout1D \n",
    "from tensorflow.keras.callbacks import EarlyStopping"
   ]
  },
  {
   "cell_type": "markdown",
   "metadata": {},
   "source": [
    "## Preprocessing Data"
   ]
  },
  {
   "cell_type": "code",
   "execution_count": 9,
   "metadata": {},
   "outputs": [],
   "source": [
    "class PreProcess:\n",
    "    tokenizer = Tokenizer(oov_token=\"<OOV>\")\n",
    "    max_sequence_len = None\n",
    "\n",
    "    def __init__(self,corpus):\n",
    "        self.corpus = self.remove_stop_words(corpus)\n",
    "        self.tokenizer.fit_on_texts(corpus)\n",
    "        \n",
    "    def remove_stop_words(self,data):\n",
    "        stop_words = set(stopwords.words('english'))\n",
    "        for i in range(len(data)):\n",
    "            sent_lst = list(data[i].split(\" \"))\n",
    "            sent_lst = filter(lambda x: x not in stop_words, sent_lst)\n",
    "            data[i] = ' '.join([str(wrd) for wrd in sent_lst])\n",
    "        return data\n",
    "            \n",
    "    def tokenize(self,data):\n",
    "        data = self.remove_stop_words(data)\n",
    "        seq = self.tokenizer.texts_to_sequences(data)\n",
    "        if(self.max_sequence_len == None):self.max_sequence_len = max([len(x) for x in seq])        \n",
    "        seq_padded = pad_sequences(seq,maxlen=self.max_sequence_len)\n",
    "        return(seq_padded)\n",
    "    \n",
    "    def get_word_index(self):\n",
    "        return(self.tokenizer.word_index)\n",
    "    \n",
    "    def get_seq_length(self):\n",
    "        return self.max_sequence_len\n",
    "    \n",
    "    def get_vocab_length(self):\n",
    "        return len(self.tokenizer.word_index) + 1\n",
    "    "
   ]
  },
  {
   "cell_type": "markdown",
   "metadata": {},
   "source": [
    "## Preprocessing Meaning of the words"
   ]
  },
  {
   "cell_type": "code",
   "execution_count": 10,
   "metadata": {},
   "outputs": [],
   "source": [
    "pre_pro_X = PreProcess(data['description'])\n",
    "X = np.array(pre_pro_X.tokenize(data['description']))\n",
    "\n",
    "max_seq_length = pre_pro_X.get_seq_length()\n",
    "vocab_length = pre_pro_X.get_vocab_length()\n",
    "#print(max_seq_length)"
   ]
  },
  {
   "cell_type": "markdown",
   "metadata": {},
   "source": [
    "## Preprocessing the Labels"
   ]
  },
  {
   "cell_type": "code",
   "execution_count": 11,
   "metadata": {},
   "outputs": [],
   "source": [
    "pre_pro_y = PreProcess(data['words'])\n",
    "y = np.array(pre_pro_y.tokenize(data['words']))\n",
    "\n",
    "total_target_words = pre_pro_y.get_vocab_length()\n",
    "ys = tf.keras.utils.to_categorical(y, num_classes=total_target_words)\n"
   ]
  },
  {
   "cell_type": "markdown",
   "metadata": {},
   "source": [
    "##  LSTM Model "
   ]
  },
  {
   "cell_type": "code",
   "execution_count": 21,
   "metadata": {},
   "outputs": [],
   "source": [
    "model = Sequential()\n",
    "\n",
    "## Embedding Layer\n",
    "model.add(Embedding(vocab_length, 100, input_length=36))\n",
    "\n",
    "## Dropout Layer\n",
    "model.add(SpatialDropout1D(0.2))\n",
    "\n",
    "## LSTM Layer\n",
    "model.add(Bidirectional(LSTM(128,dropout=0.2, recurrent_dropout=0.2)))\n",
    "\n",
    "## Output Layer\n",
    "model.add(Dense(total_target_words, activation='softmax'))\n",
    "\n",
    "model.compile(loss='categorical_crossentropy', optimizer=\"ADAM\",metrics=['accuracy'])"
   ]
  },
  {
   "cell_type": "code",
   "execution_count": 49,
   "metadata": {},
   "outputs": [
    {
     "name": "stdout",
     "output_type": "stream",
     "text": [
      "Epoch 1/3\n",
      "672/672 [==============================] - 80s 119ms/step - loss: 0.9942 - accuracy: 0.7926\n",
      "Epoch 2/3\n",
      "672/672 [==============================] - 77s 115ms/step - loss: 0.8855 - accuracy: 0.7979\n",
      "Epoch 3/3\n",
      "672/672 [==============================] - 80s 119ms/step - loss: 0.8267 - accuracy: 0.8016\n"
     ]
    }
   ],
   "source": [
    "earlystop = EarlyStopping(monitor='accuracy', min_delta=0, patience=5, verbose=0, mode='auto')\n",
    "history = model.fit(X, ys, epochs=3, verbose=1,callbacks=[earlystop])"
   ]
  },
  {
   "cell_type": "markdown",
   "metadata": {},
   "source": [
    "## Model Summary"
   ]
  },
  {
   "cell_type": "code",
   "execution_count": null,
   "metadata": {},
   "outputs": [],
   "source": [
    "print(model.summary())"
   ]
  },
  {
   "cell_type": "markdown",
   "metadata": {},
   "source": [
    "## Saving the Model"
   ]
  },
  {
   "cell_type": "code",
   "execution_count": null,
   "metadata": {},
   "outputs": [],
   "source": [
    "model.save('LSTM')"
   ]
  },
  {
   "cell_type": "markdown",
   "metadata": {},
   "source": [
    "## Loading the Model"
   ]
  },
  {
   "cell_type": "code",
   "execution_count": null,
   "metadata": {},
   "outputs": [],
   "source": [
    "model = tf.keras.load_model(\"LSTM\")"
   ]
  },
  {
   "cell_type": "markdown",
   "metadata": {},
   "source": [
    "## Model Evaluation"
   ]
  },
  {
   "cell_type": "code",
   "execution_count": 50,
   "metadata": {},
   "outputs": [],
   "source": [
    "import matplotlib.pyplot as plt\n",
    "\n",
    "def plot_graphs(history, string):\n",
    "  plt.plot(history.history[string])\n",
    "  plt.xlabel(\"Epochs\")\n",
    "  plt.ylabel(string)\n",
    "  plt.show()"
   ]
  },
  {
   "cell_type": "code",
   "execution_count": 51,
   "metadata": {},
   "outputs": [
    {
     "data": {
      "image/png": "[encoded data removed]",
      "text/plain": [
       "<Figure size 432x288 with 1 Axes>"
      ]
     },
     "metadata": {
      "needs_background": "light"
     },
     "output_type": "display_data"
    }
   ],
   "source": [
    "plot_graphs(history, 'loss')"
   ]
  },
  {
   "cell_type": "code",
   "execution_count": 52,
   "metadata": {},
   "outputs": [
    {
     "data": {
      "image/png": "[encoded data removed]",
      "text/plain": [
       "<Figure size 432x288 with 1 Axes>"
      ]
     },
     "metadata": {
      "needs_background": "light"
     },
     "output_type": "display_data"
    }
   ],
   "source": [
    "plot_graphs(history,'accuracy')"
   ]
  },
  {
   "cell_type": "markdown",
   "metadata": {},
   "source": [
    "## Predicting for Test Data"
   ]
  },
  {
   "cell_type": "code",
   "execution_count": 36,
   "metadata": {},
   "outputs": [],
   "source": [
    "class Predict:\n",
    "    \n",
    "    def __init__(self,target_words,model,pre_pro_X,pre_pro_y):\n",
    "        self.target_words =  target_words\n",
    "        self.model        =  model\n",
    "        self.pre_pro_X    =  pre_pro_X\n",
    "        self.pre_pro_y    =  pre_pro_y\n",
    "        \n",
    "    def get_words_set(self,pred_word,dashed,wrd_len):\n",
    "        words_set = filter(lambda word : nltk.edit_distance(word, pred_word) ==  dashed and wrd_len ==  len(word),\n",
    "                          self.target_words)\n",
    "        return words_set\n",
    "        \n",
    "    def predict_word(self,wrd,preds):\n",
    "        wrd_lst = wrd.split(\" \")\n",
    "        wrd_conv = ''.join(x for x in filter(lambda x: x!='_', wrd_lst))\n",
    "        \n",
    "        words_set = self.get_words_set(wrd_conv,wrd_lst.count('_'),len(wrd_lst))\n",
    "        \n",
    "        target_wrds_set = list(self.pre_pro_y.tokenizer.word_index.keys())\n",
    "        target_wrds_inxs, selective_preds = [],[]\n",
    "\n",
    "        for word in words_set:\n",
    "            try:target_wrds_inxs.append(word)\n",
    "            except:pass    \n",
    "\n",
    "        for inx in target_wrds_inxs:\n",
    "            try:selective_preds.append(preds[target_wrds_set.index(inx)])\n",
    "            except:pass\n",
    "\n",
    "        try:\n",
    "            max_prob = max(selective_preds)\n",
    "        except:\n",
    "            return None;\n",
    "        \n",
    "        return(target_wrds_set[preds.index(max_prob)])\n",
    "                \n",
    "    \n",
    "    def predict_words(self,words_dataframe):\n",
    "        final_preds = {\"Masked\":[],\"preds\":[],\"description\":[]}\n",
    "        \n",
    "        for index,row in words_dataframe.iterrows():\n",
    "            final_preds[\"Masked\"].append(row[\"Masked\"])\n",
    "            final_preds[\"description\"].append(row[\"Meaning\"])\n",
    "            \n",
    "            test_desc_encoded = self.pre_pro_X.tokenize([row['Meaning']])\n",
    "            preds = list(self.model.predict(test_desc_encoded).reshape(-1))\n",
    "            \n",
    "            final_preds[\"preds\"].append(self.predict_word(row[\"Masked\"],preds))\n",
    "        \n",
    "        return final_preds\n",
    "                   "
   ]
  },
  {
   "cell_type": "code",
   "execution_count": 37,
   "metadata": {},
   "outputs": [],
   "source": [
    "predict = Predict(target_words, model, pre_pro_X, pre_pro_y)\n",
    "test_df = pd.read_csv(\"eval.csv\")\n",
    "preds_test = pd.DataFrame(predict.predict_words(test_df))"
   ]
  },
  {
   "cell_type": "code",
   "execution_count": 42,
   "metadata": {},
   "outputs": [
    {
     "data": {
      "text/plain": [
       "pandas.core.frame.DataFrame"
      ]
     },
     "execution_count": 42,
     "metadata": {},
     "output_type": "execute_result"
    }
   ],
   "source": [
    "type(preds_test)"
   ]
  },
  {
   "cell_type": "code",
   "execution_count": 43,
   "metadata": {},
   "outputs": [],
   "source": [
    "from IPython.display import display"
   ]
  },
  {
   "cell_type": "code",
   "execution_count": 47,
   "metadata": {},
   "outputs": [
    {
     "data": {
      "text/html": [
       "<div>\n",
       "<style scoped>\n",
       "    .dataframe tbody tr th:only-of-type {\n",
       "        vertical-align: middle;\n",
       "    }\n",
       "\n",
       "    .dataframe tbody tr th {\n",
       "        vertical-align: top;\n",
       "    }\n",
       "\n",
       "    .dataframe thead th {\n",
       "        text-align: right;\n",
       "    }\n",
       "</style>\n",
       "<table border=\"1\" class=\"dataframe\">\n",
       "  <thead>\n",
       "    <tr style=\"text-align: right;\">\n",
       "      <th></th>\n",
       "      <th>Masked</th>\n",
       "      <th>preds</th>\n",
       "      <th>description</th>\n",
       "    </tr>\n",
       "  </thead>\n",
       "  <tbody>\n",
       "    <tr>\n",
       "      <th>241</th>\n",
       "      <td>_ e r n _</td>\n",
       "      <td>learn</td>\n",
       "      <td>French writer who is considered the father of ...</td>\n",
       "    </tr>\n",
       "    <tr>\n",
       "      <th>242</th>\n",
       "      <td>c o _ m _ n t</td>\n",
       "      <td>comment</td>\n",
       "      <td>a statement that expresses a personal opinion ...</td>\n",
       "    </tr>\n",
       "    <tr>\n",
       "      <th>243</th>\n",
       "      <td>_ _ a y e _ f u l</td>\n",
       "      <td>prayerful</td>\n",
       "      <td>disposed to pray or appearing to pray</td>\n",
       "    </tr>\n",
       "    <tr>\n",
       "      <th>244</th>\n",
       "      <td>_ a p a _ _ _ a t e</td>\n",
       "      <td>capacitate</td>\n",
       "      <td>make legally capable or qualify in law</td>\n",
       "    </tr>\n",
       "    <tr>\n",
       "      <th>245</th>\n",
       "      <td>b _ u t</td>\n",
       "      <td>butt</td>\n",
       "      <td>(sports</td>\n",
       "    </tr>\n",
       "    <tr>\n",
       "      <th>246</th>\n",
       "      <td>H i c _ e _</td>\n",
       "      <td>0</td>\n",
       "      <td>a small inflamed elevation of the skin; a pust...</td>\n",
       "    </tr>\n",
       "    <tr>\n",
       "      <th>247</th>\n",
       "      <td>n o</td>\n",
       "      <td>0</td>\n",
       "      <td>a negative</td>\n",
       "    </tr>\n",
       "    <tr>\n",
       "      <th>248</th>\n",
       "      <td>s o l _ e _ t</td>\n",
       "      <td>solvent</td>\n",
       "      <td>a liquid substance capable of dissolving other...</td>\n",
       "    </tr>\n",
       "    <tr>\n",
       "      <th>249</th>\n",
       "      <td>_ u m p _</td>\n",
       "      <td>grump</td>\n",
       "      <td>resembling a garbage dump</td>\n",
       "    </tr>\n",
       "    <tr>\n",
       "      <th>250</th>\n",
       "      <td>c o _ _ i _ a t _ o n</td>\n",
       "      <td>compilation</td>\n",
       "      <td>something that is compiled (as into a single b...</td>\n",
       "    </tr>\n",
       "  </tbody>\n",
       "</table>\n",
       "</div>"
      ],
      "text/plain": [
       "                    Masked        preds  \\\n",
       "241              _ e r n _        learn   \n",
       "242          c o _ m _ n t      comment   \n",
       "243      _ _ a y e _ f u l    prayerful   \n",
       "244    _ a p a _ _ _ a t e   capacitate   \n",
       "245                b _ u t         butt   \n",
       "246            H i c _ e _            0   \n",
       "247                    n o            0   \n",
       "248          s o l _ e _ t      solvent   \n",
       "249              _ u m p _        grump   \n",
       "250  c o _ _ i _ a t _ o n  compilation   \n",
       "\n",
       "                                           description  \n",
       "241  French writer who is considered the father of ...  \n",
       "242  a statement that expresses a personal opinion ...  \n",
       "243              disposed to pray or appearing to pray  \n",
       "244             make legally capable or qualify in law  \n",
       "245                                            (sports  \n",
       "246  a small inflamed elevation of the skin; a pust...  \n",
       "247                                         a negative  \n",
       "248  a liquid substance capable of dissolving other...  \n",
       "249                          resembling a garbage dump  \n",
       "250  something that is compiled (as into a single b...  "
      ]
     },
     "metadata": {},
     "output_type": "display_data"
    }
   ],
   "source": [
    "display(preds_test.tail(10))"
   ]
  },
  {
   "cell_type": "markdown",
   "metadata": {},
   "source": [
    "## Saving the Predictions"
   ]
  },
  {
   "cell_type": "code",
   "execution_count": null,
   "metadata": {},
   "outputs": [],
   "source": []
  }
 ],
 "metadata": {
  "kernelspec": {
   "display_name": "Python 3",
   "language": "python",
   "name": "python3"
  },
  "language_info": {
   "codemirror_mode": {
    "name": "ipython",
    "version": 3
   },
   "file_extension": ".py",
   "mimetype": "text/x-python",
   "name": "python",
   "nbconvert_exporter": "python",
   "pygments_lexer": "ipython3",
   "version": "3.8.5"
  }
 },
 "nbformat": 4,
 "nbformat_minor": 4
}
